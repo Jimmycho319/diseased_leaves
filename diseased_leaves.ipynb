{
 "cells": [
  {
   "cell_type": "code",
   "execution_count": 1,
   "id": "initial_id",
   "metadata": {
    "ExecuteTime": {
     "end_time": "2023-12-06T08:18:31.529263Z",
     "start_time": "2023-12-06T08:18:15.257820Z"
    },
    "collapsed": true
   },
   "outputs": [
    {
     "name": "stderr",
     "output_type": "stream",
     "text": [
      "2023-12-06 00:18:22.836366: I tensorflow/core/platform/cpu_feature_guard.cc:182] This TensorFlow binary is optimized to use available CPU instructions in performance-critical operations.\n",
      "To enable the following instructions: AVX2 FMA, in other operations, rebuild TensorFlow with the appropriate compiler flags.\n"
     ]
    }
   ],
   "source": [
    "import tensorflow as tf\n",
    "import numpy as np\n",
    "import matplotlib.pyplot as plt\n",
    "import cv2\n",
    "import os\n",
    "import zipfile\n",
    "from PIL import Image\n",
    "from six import BytesIO"
   ]
  },
  {
   "cell_type": "code",
   "execution_count": 2,
   "id": "ee6c3dcc1e06c6f1",
   "metadata": {
    "ExecuteTime": {
     "end_time": "2023-12-06T08:18:31.549752Z",
     "start_time": "2023-12-06T08:18:31.530762Z"
    },
    "collapsed": false
   },
   "outputs": [],
   "source": [
    "# uncomment if zip file has not been extracted\n",
    "# zip_filename = 'train.zip'\n",
    "# with zipfile.ZipFile(zip_filename, 'r') as z:\n",
    "#   z.extractall('train_images')"
   ]
  },
  {
   "cell_type": "code",
   "execution_count": 3,
   "id": "c567bbf4f6401f7d",
   "metadata": {
    "ExecuteTime": {
     "end_time": "2023-12-06T08:18:31.590346Z",
     "start_time": "2023-12-06T08:18:31.558225Z"
    },
    "collapsed": false
   },
   "outputs": [],
   "source": [
    "train_file_path = os.path.join('train_images', 'train')\n",
    "labels_list = sorted(os.listdir(train_file_path))\n",
    "if '.DS_Store' in labels_list:\n",
    "    labels_list.remove('.DS_Store')\n",
    "label_encoding = {label: idx for idx, label in enumerate(labels_list)}\n",
    "\n",
    "file_paths = []\n",
    "labels_all = []\n",
    "for label in labels_list:\n",
    "  label_path = os.path.join(train_file_path, label)\n",
    "  for f in os.listdir(label_path):\n",
    "    file_paths.append(os.path.join(label_path, f))\n",
    "    labels_all.append(label_encoding[label])"
   ]
  },
  {
   "cell_type": "code",
   "execution_count": 4,
   "id": "81ad4d7c46d9b157",
   "metadata": {
    "ExecuteTime": {
     "end_time": "2023-12-06T08:18:31.621221Z",
     "start_time": "2023-12-06T08:18:31.588286Z"
    },
    "collapsed": false
   },
   "outputs": [],
   "source": [
    "def load_image_to_numpy(path):\n",
    "  img_data = tf.io.gfile.GFile(path, 'rb').read()\n",
    "  return np.array(tf.image.decode_jpeg(img_data, channels=3)).reshape((256,256,3)) / 255\n",
    "  #image = Image.open(BytesIO(img_data))\n",
    "  #return np.array(image.get_data().reshape((256, 256, 3)).astype(tf.float32))"
   ]
  },
  {
   "cell_type": "code",
   "execution_count": null,
   "id": "ed17cc0eecdac52c",
   "metadata": {
    "ExecuteTime": {
     "start_time": "2023-12-06T08:18:31.621466Z"
    },
    "collapsed": false,
    "is_executing": true
   },
   "outputs": [],
   "source": [
    "# get images into numpy and shuffle/split data\n",
    "mapped = np.array(list(map(load_image_to_numpy, file_paths)))\n",
    "labels_all = np.array(labels_all)\n",
    "indices = np.arange(len(mapped))\n",
    "np.random.shuffle(indices)\n",
    "mapped = mapped[indices]\n",
    "labels_all = labels_all[indices]\n",
    "\n",
    "train_size = int(len(labels_all) * 0.9)\n",
    "\n",
    "mapped_train = mapped[:train_size]\n",
    "test_dataset_images = mapped[train_size:]\n",
    "test_dataset_labels = labels_all[train_size:]"
   ]
  },
  {
   "cell_type": "code",
   "execution_count": null,
   "id": "a983871cb2c5f8e7",
   "metadata": {
    "collapsed": false,
    "is_executing": true
   },
   "outputs": [],
   "source": [
    "print(len(mapped_train), len(test_dataset_images))"
   ]
  },
  {
   "cell_type": "code",
   "execution_count": null,
   "id": "407b613c6d68398d",
   "metadata": {
    "collapsed": false,
    "is_executing": true
   },
   "outputs": [],
   "source": [
    "def label_generator():\n",
    "  for x in range(len(mapped_train)):\n",
    "    yield mapped[x], labels_all[x]"
   ]
  },
  {
   "cell_type": "code",
   "execution_count": null,
   "id": "a0dfe0c3a8d9096a",
   "metadata": {
    "collapsed": false,
    "is_executing": true
   },
   "outputs": [],
   "source": [
    "train_dataset = tf.data.Dataset.from_generator(\n",
    "  generator=label_generator,\n",
    "  output_signature=(\n",
    "    tf.TensorSpec(shape=(256,256,3), dtype=tf.int32),\n",
    "    tf.TensorSpec(shape=(), dtype=tf.int32))\n",
    "  )\n",
    "\n",
    "train_dataset = train_dataset.shuffle(buffer_size=len(file_paths)).batch(32)\n",
    "train_dataset = train_dataset.prefetch(buffer_size=tf.data.experimental.AUTOTUNE)"
   ]
  },
  {
   "cell_type": "code",
   "execution_count": null,
   "id": "6838d5a0186865ce",
   "metadata": {
    "collapsed": false,
    "is_executing": true
   },
   "outputs": [],
   "source": [
    "# normalize the dataset before?\n",
    "model = tf.keras.Sequential()\n",
    "model.add(tf.keras.layers.InputLayer(input_shape=(256,256,3)))\n",
    "model.add(tf.keras.layers.Conv2D(16, kernel_size=(3,3), activation='relu'))\n",
    "model.add(tf.keras.layers.Conv2D(16, kernel_size=(3,3), activation='relu'))\n",
    "# model.add(tf.keras.layers.BatchNormalization)\n",
    "model.add(tf.keras.layers.MaxPooling2D((2,2), strides=(2,2)))\n",
    "model.add(tf.keras.layers.Conv2D(32, kernel_size=(3,3), activation='relu'))\n",
    "model.add(tf.keras.layers.Conv2D(32, kernel_size=(3,3), activation='relu'))\n",
    "model.add(tf.keras.layers.MaxPooling2D((2,2), strides=(2,2)))\n",
    "model.add(tf.keras.layers.Conv2D(64, kernel_size=(3,3), activation='relu'))\n",
    "model.add(tf.keras.layers.MaxPooling2D((2,2), strides=(2,2)))\n",
    "model.add(tf.keras.layers.Conv2D(128, kernel_size=(3,3), activation='relu'))\n",
    "model.add(tf.keras.layers.MaxPooling2D((2,2), strides=(2,2)))\n",
    "model.add(tf.keras.layers.Flatten())\n",
    "model.add(tf.keras.layers.Dense(32, activation='relu'))\n",
    "# model.add(tf.keras.layers.Dense(16, activation='relu'))\n",
    "model.add(tf.keras.layers.Dense(1, activation='sigmoid'))\n",
    "model.compile(optimizer='adam', loss=tf.keras.losses.BinaryCrossentropy(from_logits=True), metrics=['accuracy'])\n",
    "print(model.output_shape)\n",
    "print(model.summary())"
   ]
  },
  {
   "cell_type": "code",
   "execution_count": null,
   "id": "4f1e90331f8919a3",
   "metadata": {
    "collapsed": false,
    "is_executing": true
   },
   "outputs": [],
   "source": [
    "model.fit(train_dataset, epochs=10) # , validation_split=0.1"
   ]
  },
  {
   "cell_type": "code",
   "execution_count": null,
   "id": "9a9dd447a2c6bf09",
   "metadata": {
    "collapsed": false,
    "is_executing": true
   },
   "outputs": [],
   "source": [
    "# iterator = iter(dataset)\n",
    "# item = next(iterator)\n",
    "# print(item)\n",
    "# list(dataset.as_numpy_iterator())[:5]"
   ]
  },
  {
   "cell_type": "code",
   "execution_count": null,
   "id": "91be99f1a6be0f03",
   "metadata": {
    "collapsed": false,
    "is_executing": true
   },
   "outputs": [],
   "source": [
    "# model.predict(mapped[0:10])\n",
    "# model.save('overfitted_model')"
   ]
  },
  {
   "cell_type": "code",
   "execution_count": null,
   "id": "cf861a6756a2f6d3",
   "metadata": {
    "collapsed": false,
    "is_executing": true
   },
   "outputs": [],
   "source": [
    "def accuracy():\n",
    "  correct_total = 0\n",
    "  incorrect = []\n",
    "  for x in range(len(test_dataset_labels)):\n",
    "    t = np.array(test_dataset_images[x])\n",
    "    t = np.expand_dims(t, 0)\n",
    "    model_out = model.predict(t, verbose=0)\n",
    "    if model_out > 0.5:\n",
    "      pred = 1\n",
    "    else:\n",
    "      pred = 0\n",
    "    if test_dataset_labels[x] == pred:\n",
    "      correct_total += 1\n",
    "    else:\n",
    "      incorrect.append(model_out)\n",
    "  return correct_total / len(test_dataset_labels), incorrect\n",
    "\n",
    "accuracy()"
   ]
  },
  {
   "cell_type": "code",
   "execution_count": null,
   "id": "59a3bd88484ccfb0",
   "metadata": {
    "collapsed": false,
    "is_executing": true
   },
   "outputs": [],
   "source": [
    "tp = np.array(test_dataset_images[0])\n",
    "tp = np.expand_dims(tp, 0)\n",
    "print(tp.shape)\n",
    "print(model.predict(tp))"
   ]
  },
  {
   "cell_type": "code",
   "execution_count": null,
   "id": "a9eb66ed0630b0f4",
   "metadata": {
    "collapsed": false,
    "is_executing": true
   },
   "outputs": [],
   "source": [
    "test_loss, test_accuracy = model.evaluate(test_dataset_labels, test_dataset_labels, verbose=2)"
   ]
  },
  {
   "cell_type": "code",
   "execution_count": null,
   "id": "b87492b209883719",
   "metadata": {
    "collapsed": false,
    "is_executing": true
   },
   "outputs": [],
   "source": []
  }
 ],
 "metadata": {
  "kernelspec": {
   "display_name": "Python 3",
   "language": "python",
   "name": "python3"
  },
  "language_info": {
   "codemirror_mode": {
    "name": "ipython",
    "version": 2
   },
   "file_extension": ".py",
   "mimetype": "text/x-python",
   "name": "python",
   "nbconvert_exporter": "python",
   "pygments_lexer": "ipython2",
   "version": "2.7.6"
  }
 },
 "nbformat": 4,
 "nbformat_minor": 5
}
